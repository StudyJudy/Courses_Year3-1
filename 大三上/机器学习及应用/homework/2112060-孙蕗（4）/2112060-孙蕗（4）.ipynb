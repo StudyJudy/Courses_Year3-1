{
 "cells": [
  {
   "cell_type": "markdown",
   "id": "53d9ca29",
   "metadata": {},
   "source": [
    "# Ex4\n",
    "\n",
    "截止日期：11月17日\n",
    "\n",
    "以学号+姓名(4)的命名形式打包实验代码+实验报告发送到邮箱2120230658@mail.nankai.edu.cn\n",
    "\n",
    "## 数据集\n",
    "Most Popular Data Set中的wine数据集（对意大利同一地区声场的三种不同品种的酒做大量分析所得出的数据）\n",
    "\n",
    "### 基本要求\n",
    " a)采用分层采样的方式将数据集划分为训练集和测试集。\n",
    " \n",
    " b)给定编写一个朴素贝叶斯分类器，对测试集进行预测，计算分类准确率。\n",
    "\n",
    "### 中级要求\n",
    "使用测试集评估模型，得到混淆矩阵，精度，召回率，F值。\n",
    "\n",
    "### 高级要求\n",
    "在中级要求的基础上画出三类数据的ROC曲线，并求出AUC值。\n",
    "\n",
    "### 拓展要求\n",
    "浅谈ROC曲线和AUC值作为分类评价的合理性。"
   ]
  },
  {
   "cell_type": "markdown",
   "id": "5b1acde9",
   "metadata": {},
   "source": [
    "### 基本要求"
   ]
  },
  {
   "cell_type": "code",
   "execution_count": 1,
   "id": "89488997",
   "metadata": {},
   "outputs": [],
   "source": [
    "import numpy as np\n",
    "import pandas as pd\n",
    "from sklearn.model_selection import train_test_split\n",
    "from sklearn.naive_bayes import GaussianNB\n",
    "from sklearn.metrics import accuracy_score, confusion_matrix, precision_score, recall_score, f1_score, roc_curve, auc\n",
    "from sklearn.metrics import roc_curve, roc_auc_score\n",
    "import matplotlib.pyplot as plt"
   ]
  },
  {
   "cell_type": "markdown",
   "id": "e22c2194",
   "metadata": {},
   "source": [
    "Wine.data 包含所有数据的数据文件\n",
    "\n",
    "Wine.names 数据集描述文件\n",
    "\n",
    "在wine数据集中，这些数据包括了三种酒中13种不同成分的数量。\n",
    "\n",
    "文件中，每行代表一种酒的样本，共有178个样本；一共有14列，其中，第一个属性是类标识符，分别是1/2/3来表示，代表葡萄酒的三个分类。后面的13列为每个样本的对应属性的样本值。剩余的13个属性是，酒精、苹果酸、灰、灰分的碱度、镁、总酚、黄酮类化合物、非黄烷类酚类、原花色素、颜色强度、色调、稀释葡萄酒的OD280/OD315、脯氨酸。\n",
    "\n",
    "其中第1类有59个样本，第2类有71个样本，第3类有48个样本。\n"
   ]
  },
  {
   "cell_type": "code",
   "execution_count": 2,
   "id": "3d539577",
   "metadata": {},
   "outputs": [],
   "source": [
    "# 读取wine数据集\n",
    "data = pd.read_csv(r'C:\\\\Users\\\\LENOVO\\\\Desktop\\\\ML-4\\\\wine.data', header=None, names=[\"class_label\", \"alcohol\", \"malic_acid\", \"ash\", \"alcalinity_of_ash\", \"magnesium\", \"total_phenols\", \"flavanoids\", \"nonflavanoid_phenols\", \"proanthocyanins\", \"color_intensity\", \"hue\", \"od280/od315_of_diluted_wines\", \"proline\"])"
   ]
  },
  {
   "cell_type": "code",
   "execution_count": 3,
   "id": "a078a715",
   "metadata": {},
   "outputs": [],
   "source": [
    "# 特征列X和目标列y\n",
    "X = data.iloc[:, 1:]  # 13个属性作为特征\n",
    "y = data['class_label']"
   ]
  },
  {
   "cell_type": "code",
   "execution_count": 4,
   "id": "26070220",
   "metadata": {},
   "outputs": [],
   "source": [
    "# 分层采样划分训练集和测试集\n",
    "# 测试集的大小为总数据的20%，采用分层抽样以保持类别分布的一致性\n",
    "X_train, X_test, y_train, y_test = train_test_split(X, y, test_size=0.2, stratify=y, random_state=42)"
   ]
  },
  {
   "cell_type": "code",
   "execution_count": 5,
   "id": "be1b6449",
   "metadata": {},
   "outputs": [],
   "source": [
    "# 定义高斯朴素贝叶斯分类器\n",
    "class GaussianNaiveBayes:\n",
    "    def __init__(self):\n",
    "        self.class_labels = []\n",
    "        self.class_priors = {}\n",
    "        self.class_means = {}\n",
    "        self.class_variances = {}\n",
    "\n",
    "    def fit(self, X, y):\n",
    "        self.class_labels = np.unique(y)\n",
    "\n",
    "        for label in self.class_labels:\n",
    "            X_class = X[y == label]#类别标签\n",
    "            self.class_priors[label] = len(X_class) / len(X)#类别先验概率\n",
    "\n",
    "            self.class_means[label] = X_class.mean(axis=0)#类别均值\n",
    "            self.class_variances[label] = X_class.var(axis=0)#类别方差\n",
    "\n",
    "    def predict(self, X):\n",
    "        predictions = []\n",
    "        for sample in X:\n",
    "            posteriors = []\n",
    "            # 计算输入数据中每个样本的各个类别的后验概率\n",
    "            for label in self.class_labels:\n",
    "                \n",
    "                # 每个类别 likelihood = (1 / sqrt(2 * π * σ^2)) * exp(-(sample[i] - μ)^2 / (2 * σ^2))\n",
    "                # 计算高斯分布的概率密度函数的指数：((sample - self.class_means[label]) ** 2) / (2 * self.class_variances[label])\n",
    "                # 计算高斯分布的概率密度函数的系数：np.log(2 * np.pi * self.class_variances[label])\n",
    "                # 将指数部分和系数部分相加，并取负数：-0.5 * np.sum(np.log(2 * np.pi * self.class_variances[label]) + ((sample - self.class_means[label]) ** 2) / (2 * self.class_variances[label]))\n",
    "                # 计算似然概率：np.exp(-0.5 * np.sum(np.log(2 * np.pi * self.class_variances[label]) + ((sample - self.class_means[label]) ** 2) / (2 * self.class_variances[label])))\n",
    "                \n",
    "                likelihood = np.exp(-0.5 * np.sum(np.log(2 * np.pi * self.class_variances[label]) +\n",
    "                                                 ((sample - self.class_means[label]) ** 2) / (2 * self.class_variances[label])))\n",
    "                # posterior = likelihood * prior\n",
    "                # 将似然概率与先验概率相乘，并取对数，得到后验概率：np.log(self.class_priors[label]) + np.sum(np.log(likelihood))\n",
    "                posterior = np.log(self.class_priors[label]) + np.sum(np.log(likelihood))\n",
    "                posteriors.append(posterior)\n",
    "                \n",
    "            predictions.append(self.class_labels[np.argmax(posteriors)])\n",
    "        return np.array(predictions)"
   ]
  },
  {
   "cell_type": "code",
   "execution_count": 6,
   "id": "9346cbf4",
   "metadata": {},
   "outputs": [],
   "source": [
    "# 创建朴素贝叶斯分类器\n",
    "nb_classifier = GaussianNaiveBayes()\n",
    "# 将分类器拟合到训练数据上\n",
    "nb_classifier.fit(X_train.values, y_train.values)"
   ]
  },
  {
   "cell_type": "code",
   "execution_count": 7,
   "id": "f0bfebcb",
   "metadata": {},
   "outputs": [],
   "source": [
    "# 使用分类器在测试集上进行预测\n",
    "y_pred = nb_classifier.predict(X_test.values)"
   ]
  },
  {
   "cell_type": "code",
   "execution_count": 8,
   "id": "48204027",
   "metadata": {},
   "outputs": [
    {
     "name": "stdout",
     "output_type": "stream",
     "text": [
      "分类准确率: 0.9444\n"
     ]
    }
   ],
   "source": [
    "# 将预测标签与真实标签进行比较并取比较结果的平均值来计算分类准确率\n",
    "accuracy = np.mean(y_pred == y_test)\n",
    "print(f'分类准确率: {accuracy:.4f}')"
   ]
  },
  {
   "cell_type": "code",
   "execution_count": 9,
   "id": "a9293605",
   "metadata": {},
   "outputs": [
    {
     "name": "stdout",
     "output_type": "stream",
     "text": [
      "类别 1 的分类准确率: 1.0000\n",
      "类别 2 的分类准确率: 0.8571\n",
      "类别 3 的分类准确率: 1.0000\n"
     ]
    }
   ],
   "source": [
    "# 计算各个类别的分类准确率\n",
    "classes_accuracy = {}\n",
    "unique_labels = np.unique(y_test)\n",
    "for label in unique_labels:\n",
    "    correct = np.sum((y_test == label) & (y_pred == label))\n",
    "    total = np.sum(y_test == label)\n",
    "    classes_accuracy[label] = correct / total\n",
    "\n",
    "# 打印各个类别的分类准确率\n",
    "for label, acc in classes_accuracy.items():\n",
    "    print(f'类别 {label} 的分类准确率: {acc:.4f}')"
   ]
  },
  {
   "cell_type": "markdown",
   "id": "be286b0f",
   "metadata": {},
   "source": [
    "### 中级要求"
   ]
  },
  {
   "cell_type": "code",
   "execution_count": 10,
   "id": "55ef1114",
   "metadata": {},
   "outputs": [],
   "source": [
    "#编写函数实现混淆矩阵、精度、召回率、F值\n",
    "\n",
    "def calculate_metrics(y_true, y_pred):\n",
    "    # 计算混淆矩阵\n",
    "    unique_labels = set(y_true + y_pred)\n",
    "    num_classes = len(unique_labels)\n",
    "    confusion = [[0] * num_classes for _ in range(num_classes)]\n",
    "    for true, pred in zip(y_true, y_pred):\n",
    "        confusion[true][pred] += 1\n",
    "    \n",
    "    # 计算精度、召回率和F值\n",
    "    precision = 0\n",
    "    recall = 0\n",
    "    f1 = 0\n",
    "    \n",
    "    for i in range(num_classes):\n",
    "        true_positives = confusion[i][i]\n",
    "        false_positives = sum(confusion[j][i] for j in range(num_classes) if j != i)\n",
    "        false_negatives = sum(confusion[i][j] for j in range(num_classes) if j != i)\n",
    "        \n",
    "        precision += true_positives / (true_positives + false_positives)\n",
    "        recall += true_positives / (true_positives + false_negatives)\n",
    "        f1 += 2 * true_positives / (2 * true_positives + false_positives + false_negatives)\n",
    "    \n",
    "    precision /= num_classes\n",
    "    recall /= num_classes\n",
    "    f1 /= num_classes\n",
    "    \n",
    "    return confusion, precision, recall, f1"
   ]
  },
  {
   "cell_type": "code",
   "execution_count": 11,
   "id": "f132266e",
   "metadata": {},
   "outputs": [],
   "source": [
    "# 计算混淆矩阵、精度、召回率和F值\n",
    "confusion = confusion_matrix(y_test, y_pred)\n",
    "\n",
    "precision = precision_score(y_test, y_pred, average='weighted')\n",
    "\n",
    "recall = recall_score(y_test, y_pred, average='weighted')\n",
    "\n",
    "f1 = f1_score(y_test, y_pred, average='weighted')"
   ]
  },
  {
   "cell_type": "code",
   "execution_count": 12,
   "id": "05d80e7b",
   "metadata": {},
   "outputs": [
    {
     "name": "stdout",
     "output_type": "stream",
     "text": [
      "混淆矩阵:\n",
      "[[12  0  0]\n",
      " [ 2 12  0]\n",
      " [ 0  0 10]]\n",
      "精度: 0.9524\n",
      "召回率: 0.9444\n",
      "F值: 0.9444\n"
     ]
    }
   ],
   "source": [
    "print(f'混淆矩阵:\\n{confusion}')\n",
    "\n",
    "print(f'精度: {precision:.4f}')\n",
    "\n",
    "print(f'召回率: {recall:.4f}')\n",
    "\n",
    "print(f'F值: {f1:.4f}')"
   ]
  },
  {
   "cell_type": "code",
   "execution_count": 13,
   "id": "edf4432f",
   "metadata": {},
   "outputs": [
    {
     "name": "stdout",
     "output_type": "stream",
     "text": [
      "Confusion Matrix:\n",
      "[[12  0  0]\n",
      " [ 2 12  0]\n",
      " [ 0  0 10]]\n",
      "Precision:\n",
      "类别 0: 0.8571428571428571\n",
      "类别 1: 1.0\n",
      "类别 2: 1.0\n",
      "Recall:\n",
      "类别 0: 1.0\n",
      "类别 1: 0.8571428571428571\n",
      "类别 2: 1.0\n",
      "F1 Score:\n",
      "类别 0: 0.923076923076923\n",
      "类别 1: 0.923076923076923\n",
      "类别 2: 1.0\n"
     ]
    }
   ],
   "source": [
    "# 计算混淆矩阵\n",
    "confusion_mat = confusion_matrix(y_test.values, y_pred)\n",
    "print(\"Confusion Matrix:\")\n",
    "print(confusion_mat)\n",
    "\n",
    "# 计算精度\n",
    "precision = precision_score(y_test.values, y_pred, average=None)\n",
    "print(\"Precision:\")\n",
    "for i in range(len(precision)):\n",
    "    print(f\"类别 {i}: {precision[i]}\")\n",
    "\n",
    "# 计算召回率\n",
    "recall = recall_score(y_test.values, y_pred, average=None)\n",
    "print(\"Recall:\")\n",
    "for i in range(len(recall)):\n",
    "    print(f\"类别 {i}: {recall[i]}\")\n",
    "\n",
    "# 计算F值\n",
    "f1 = f1_score(y_test.values, y_pred, average=None)\n",
    "print(\"F1 Score:\")\n",
    "for i in range(len(f1)):\n",
    "    print(f\"类别 {i}: {f1[i]}\")"
   ]
  },
  {
   "cell_type": "markdown",
   "id": "6ac508ca",
   "metadata": {},
   "source": [
    "### 高级要求"
   ]
  },
  {
   "cell_type": "code",
   "execution_count": 14,
   "id": "4cbb0aac",
   "metadata": {},
   "outputs": [],
   "source": [
    "# 计算ROC曲线和AUC值\n",
    "\n",
    "# 计算数据集中类别的数量\n",
    "num_classes = len(data['class_label'].unique())"
   ]
  },
  {
   "cell_type": "markdown",
   "id": "a3ca18fd",
   "metadata": {},
   "source": [
    " 存储每个类别的假阳性率（False Positive Rate，FPR）\n",
    " \n",
    " 真阳性率（True Positive Rate，TPR）\n",
    " \n",
    " ROC曲线下的面积（Area Under the Curve，AUC）。"
   ]
  },
  {
   "cell_type": "code",
   "execution_count": 15,
   "id": "d0de658c",
   "metadata": {},
   "outputs": [],
   "source": [
    "fpr = {}\n",
    "tpr = {}\n",
    "roc_auc = {}"
   ]
  },
  {
   "cell_type": "markdown",
   "id": "19fc9edd",
   "metadata": {},
   "source": [
    " 循环用于计算每个类别的FPR、TPR和AUC\n",
    " \n",
    " 对于每个类别 i，首先将测试集的真实标签 y_test 中等于 i + 1 的样本转换为二进制形式，作为 y_true_class\n",
    " \n",
    " 将分类器的预测结果 y_pred 中等于 i + 1 的样本转换为二进制形式，作为 y_pred_class\n",
    " \n",
    " 使用 roc_curve 函数计算类别 i 的FPR和TPR，并将结果存储在 fpr[i] 和 tpr[i] 中\n",
    " \n",
    " 使用 roc_auc_score 函数计算类别 i 的AUC，并将结果存储在 roc_auc[i] 中"
   ]
  },
  {
   "cell_type": "code",
   "execution_count": 16,
   "id": "c28f6c54",
   "metadata": {},
   "outputs": [],
   "source": [
    "def roc_curve_1(y_true, y_pred):\n",
    "    sorted_indices = np.argsort(y_pred)[::-1]\n",
    "    y_true_sorted = y_true[sorted_indices]\n",
    "    thresholds = np.unique(y_pred)\n",
    "    tpr = []\n",
    "    fpr = []\n",
    "    \n",
    "    for threshold in thresholds:\n",
    "        tp = np.sum((y_true_sorted == 1) & (y_pred >= threshold))\n",
    "        fp = np.sum((y_true_sorted == 0) & (y_pred >= threshold))\n",
    "        tn = np.sum((y_true_sorted == 0) & (y_pred < threshold))\n",
    "        fn = np.sum((y_true_sorted == 1) & (y_pred < threshold))\n",
    "        \n",
    "        tpr.append(tp / (tp + fn))\n",
    "        fpr.append(fp / (fp + tn))\n",
    "    \n",
    "    return np.array(fpr), np.array(tpr), thresholds\n",
    "\n",
    "def roc_auc_score_1(y_true, y_pred):\n",
    "    fpr, tpr, _ = roc_curve(y_true, y_pred)\n",
    "    auc = np.trapz(tpr, fpr)\n",
    "    return auc"
   ]
  },
  {
   "cell_type": "code",
   "execution_count": 17,
   "id": "063b47e6",
   "metadata": {},
   "outputs": [],
   "source": [
    "for i in range(num_classes):\n",
    "    y_true_class = (y_test == i + 1).astype(int)\n",
    "    y_pred_class = (y_pred == i + 1).astype(int)\n",
    "    fpr[i], tpr[i], _ = roc_curve(y_true_class, y_pred_class)\n",
    "    roc_auc[i] = roc_auc_score(y_true_class, y_pred_class)"
   ]
  },
  {
   "cell_type": "code",
   "execution_count": 18,
   "id": "2600932f",
   "metadata": {},
   "outputs": [
    {
     "data": {
      "image/png": "[encoded data removed]",
      "text/plain": [
       "<Figure size 800x600 with 1 Axes>"
      ]
     },
     "metadata": {},
     "output_type": "display_data"
    }
   ],
   "source": [
    "# 画出ROC曲线\n",
    "plt.figure(figsize=(8, 6))\n",
    "for i in range(num_classes):\n",
    "    plt.plot(fpr[i], tpr[i], lw=2, label=f'ROC curve (class {i + 1}) (AUC = {roc_auc[i]:.2f})')\n",
    "    \n",
    "plt.plot([0, 1], [0, 1], color='navy', lw=2, linestyle='--')\n",
    "plt.xlim([0.0, 1.0])\n",
    "plt.ylim([0.0, 1.05])\n",
    "plt.xlabel('False Positive Rate')\n",
    "plt.ylabel('True Positive Rate')\n",
    "plt.title('ROC Curve for Wine Dataset')\n",
    "plt.legend(loc='lower right')\n",
    "plt.show()"
   ]
  },
  {
   "cell_type": "markdown",
   "id": "6aecb7bb",
   "metadata": {},
   "source": [
    "### 拓展要求"
   ]
  },
  {
   "cell_type": "markdown",
   "id": "71741aeb",
   "metadata": {},
   "source": [
    " ROC曲线和AUC值对于多类别分类问题提供了一种综合性能评估的方法，但对于每个类别都有一个ROC曲线和AUC值。合理性在于：\n",
    " \n",
    " ROC曲线（Receiver Operating Characteristic Curve）是一种以假阳性率（False Positive Rate，FPR）为横轴，真阳性率（True Positive Rate，TPR）为纵轴的曲线。ROC曲线能够展示分类器在不同阈值下的性能表现。曲线越靠近左上角，表示分类器的性能越好。\n",
    " \n",
    " AUC值（Area Under the Curve）是ROC曲线下的面积，取值范围在0到1之间。AUC值越接近1，表示分类器的性能越好，能够更好地区分正例和负例。AUC值为0.5时，表示分类器的性能等同于随机猜测。\n",
    "\n",
    " 合理性体现在以下几个方面:\n",
    " \n",
    " 1. 不受阈值选择的影响：ROC曲线和AUC值不依赖于分类器的阈值选择，因此可以综合考虑分类器在不同阈值下的性能。这是因为ROC曲线绘制了不同阈值下的真阳性率和假阳性率之间的关系，而AUC值则是对整个曲线下的性能进行综合评估。这使得ROC曲线和AUC值能够提供一个更全面的分类器性能评估，而不仅仅局限于单个阈值的结果。\n",
    "\n",
    " 2. 对类别不平衡数据的鲁棒性：在类别不平衡的情况下，分类器的性能评估可能会受到误导。例如，在一个正例数量远远小于负例数量的数据集中，一个简单的分类器可以将所有样本都预测为负例，仍然会有很高的准确率。然而，ROC曲线和AUC值能够更好地反映分类器在不同类别之间的区分能力，因为它们基于真阳性率和假阳性率的比例，而不是简单地依赖于分类器的准确率\n",
    " \n",
    " 3. 直观可解释性：ROC曲线直观地展示了分类器在不同阈值下的性能变化。曲线越靠近左上角，表示分类器的性能越好。这使得我们可以通过观察曲线的形状来判断分类器的优劣。AUC值则提供了一个单一的指标来衡量分类器的整体性能，数值越接近1，表示分类器的性能越好。\n",
    " \n",
    " 4. 与其他评价指标的关联性：ROC曲线和AUC值与其他评价指标（如准确率、召回率、精确度和F1分数）之间存在一定的关联性。例如，AUC值与准确率和召回率之间存在一定的权衡关系，因为AUC值综合考虑了分类器在不同阈值下的性能。这使得ROC曲线和AUC值能够提供一个更全面的分类器性能评估，而不仅仅依赖于单个评价指标"
   ]
  },
  {
   "cell_type": "code",
   "execution_count": null,
   "id": "ff8795a1",
   "metadata": {},
   "outputs": [],
   "source": []
  },
  {
   "cell_type": "code",
   "execution_count": null,
   "id": "cb54341d",
   "metadata": {},
   "outputs": [],
   "source": []
  }
 ],
 "metadata": {
  "kernelspec": {
   "display_name": "Python 3 (ipykernel)",
   "language": "python",
   "name": "python3"
  },
  "language_info": {
   "codemirror_mode": {
    "name": "ipython",
    "version": 3
   },
   "file_extension": ".py",
   "mimetype": "text/x-python",
   "name": "python",
   "nbconvert_exporter": "python",
   "pygments_lexer": "ipython3",
   "version": "3.11.4"
  }
 },
 "nbformat": 4,
 "nbformat_minor": 5
}
